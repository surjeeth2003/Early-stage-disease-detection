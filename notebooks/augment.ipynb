{
 "cells": [
  {
   "cell_type": "code",
   "execution_count": 3,
   "id": "5b5d7b63",
   "metadata": {},
   "outputs": [
    {
     "name": "stdout",
     "output_type": "stream",
     "text": [
      "Requirement already satisfied: numpy in c:\\users\\asus\\anaconda3\\lib\\site-packages (1.26.4)\n",
      "Note: you may need to restart the kernel to use updated packages.\n"
     ]
    }
   ],
   "source": [
    "%pip install numpy"
   ]
  },
  {
   "cell_type": "code",
   "execution_count": 4,
   "id": "c879eb04",
   "metadata": {},
   "outputs": [
    {
     "name": "stdout",
     "output_type": "stream",
     "text": [
      "Hello\n"
     ]
    }
   ],
   "source": [
    "print(\"Hello\")"
   ]
  },
  {
   "cell_type": "code",
   "execution_count": 17,
   "id": "10a4ccc6",
   "metadata": {},
   "outputs": [
    {
     "name": "stdout",
     "output_type": "stream",
     "text": [
      "✅ Created directory: Corn_(maize)___Cercospora_leaf_spot Gray_leaf_spot_rotated_images\n",
      "Found 513 files in 'C:\\Users\\athit\\OneDrive\\Desktop\\Early-stage-disease-detection\\data\\processed\\train\\Corn_(maize)___Cercospora_leaf_spot Gray_leaf_spot'. Starting processing...\n",
      "\n",
      "🎉 Done! Processed and saved 513 rotated images to the 'Corn_(maize)___Cercospora_leaf_spot Gray_leaf_spot_rotated_images' folder.\n"
     ]
    }
   ],
   "source": [
    "# filename: augment_rotate.py\n",
    "\n",
    "import cv2\n",
    "import os\n",
    "\n",
    "# --- 1. SETUP YOUR FOLDERS ---\n",
    "# The 'r' before the string prevents the backslash error on Windows.\n",
    "input_folder_path = r'C:\\Users\\athit\\OneDrive\\Desktop\\Early-stage-disease-detection\\data\\processed\\train\\Corn_(maize)___Cercospora_leaf_spot Gray_leaf_spot' \n",
    "output_folder_path = 'Corn_(maize)___Cercospora_leaf_spot Gray_leaf_spot_rotated_images'\n",
    "\n",
    "# Create the output folder if it doesn't already exist\n",
    "if not os.path.exists(output_folder_path):\n",
    "    os.makedirs(output_folder_path)\n",
    "    print(f\"✅ Created directory: {output_folder_path}\")\n",
    "\n",
    "# --- 2. PROCESS THE IMAGES ---\n",
    "\n",
    "# Check if the input folder exists\n",
    "if not os.path.isdir(input_folder_path):\n",
    "    print(f\"❌ Error: The folder '{input_folder_path}' was not found.\")\n",
    "    print(\"Please check the path and try again.\")\n",
    "else:\n",
    "    files = os.listdir(input_folder_path)\n",
    "    image_count = 0\n",
    "\n",
    "    print(f\"Found {len(files)} files in '{input_folder_path}'. Starting processing...\")\n",
    "\n",
    "    # Loop through each file\n",
    "    for filename in files:\n",
    "        if filename.lower().endswith(('.png', '.jpg', '.jpeg')):\n",
    "            \n",
    "            input_image_path = os.path.join(input_folder_path, filename)\n",
    "            image = cv2.imread(input_image_path)\n",
    "            \n",
    "            if image is not None:\n",
    "                # --- APPLY THE AUGMENTATION ---\n",
    "                rotated_image = cv2.rotate(image, cv2.ROTATE_90_CLOCKWISE)\n",
    "                \n",
    "                output_image_path = os.path.join(output_folder_path, filename)\n",
    "                cv2.imwrite(output_image_path, rotated_image)\n",
    "                \n",
    "                image_count += 1\n",
    "            else:\n",
    "                print(f\"⚠️ Could not read {filename}. Skipping.\")\n",
    "    \n",
    "    print(f\"\\n🎉 Done! Processed and saved {image_count} rotated images to the '{output_folder_path}' folder.\")"
   ]
  },
  {
   "cell_type": "code",
   "execution_count": 18,
   "id": "e7a9a0fc",
   "metadata": {},
   "outputs": [
    {
     "name": "stdout",
     "output_type": "stream",
     "text": [
      "✅ Created directory: Corn_(maize)___Cercospora_leaf_spot Gray_leaf_spot_flipped_images\n",
      "Found 513 files in 'C:\\Users\\athit\\OneDrive\\Desktop\\Early-stage-disease-detection\\data\\processed\\train\\Corn_(maize)___Cercospora_leaf_spot Gray_leaf_spot'. Starting processing...\n",
      "\n",
      "🎉 Done! Processed and saved 513 flipped images to the 'Corn_(maize)___Cercospora_leaf_spot Gray_leaf_spot_flipped_images' folder.\n"
     ]
    }
   ],
   "source": [
    "# filename: augment_flip.py\n",
    "\n",
    "import cv2\n",
    "import os\n",
    "\n",
    "# --- 1. SETUP YOUR FOLDERS ---\n",
    "# The input folder path stays the same.\n",
    "input_folder_path = r'C:\\Users\\athit\\OneDrive\\Desktop\\Early-stage-disease-detection\\data\\processed\\train\\Corn_(maize)___Cercospora_leaf_spot Gray_leaf_spot' \n",
    "\n",
    "# We just change the name of the output folder for this new augmentation.\n",
    "output_folder_path = 'Corn_(maize)___Cercospora_leaf_spot Gray_leaf_spot_flipped_images'\n",
    "\n",
    "# Create the output folder if it doesn't already exist\n",
    "if not os.path.exists(output_folder_path):\n",
    "    os.makedirs(output_folder_path)\n",
    "    print(f\"✅ Created directory: {output_folder_path}\")\n",
    "\n",
    "# --- 2. PROCESS THE IMAGES ---\n",
    "\n",
    "# Check if the input folder exists\n",
    "if not os.path.isdir(input_folder_path):\n",
    "    print(f\"❌ Error: The folder '{input_folder_path}' was not found.\")\n",
    "    print(\"Please check the path and try again.\")\n",
    "else:\n",
    "    files = os.listdir(input_folder_path)\n",
    "    image_count = 0\n",
    "\n",
    "    print(f\"Found {len(files)} files in '{input_folder_path}'. Starting processing...\")\n",
    "\n",
    "    # Loop through each file\n",
    "    for filename in files:\n",
    "        if filename.lower().endswith(('.png', '.jpg', '.jpeg')):\n",
    "            \n",
    "            input_image_path = os.path.join(input_folder_path, filename)\n",
    "            image = cv2.imread(input_image_path)\n",
    "            \n",
    "            if image is not None:\n",
    "                # --- APPLY THE AUGMENTATION (This is the only line that changes!) ---\n",
    "                # 1 means flip horizontally. 0 would be vertical, -1 would be both.\n",
    "                flipped_image = cv2.flip(image, 1)\n",
    "                \n",
    "                output_image_path = os.path.join(output_folder_path, filename)\n",
    "                cv2.imwrite(output_image_path, flipped_image)\n",
    "                \n",
    "                image_count += 1\n",
    "            else:\n",
    "                print(f\"⚠️ Could not read {filename}. Skipping.\")\n",
    "    \n",
    "    print(f\"\\n🎉 Done! Processed and saved {image_count} flipped images to the '{output_folder_path}' folder.\")"
   ]
  },
  {
   "cell_type": "code",
   "execution_count": 19,
   "id": "0c29b49a",
   "metadata": {},
   "outputs": [
    {
     "name": "stdout",
     "output_type": "stream",
     "text": [
      "✅ Created directory: Corn_(maize)___Cercospora_leaf_spot Gray_leaf_spot_brighten_images\n",
      "Found 513 files. Starting brightness adjustment...\n",
      "\n",
      "🎉 Done! Processed and saved 513 brightness-adjusted images to 'Corn_(maize)___Cercospora_leaf_spot Gray_leaf_spot_brighten_images'.\n"
     ]
    }
   ],
   "source": [
    "# filename: augment_brightness.py\n",
    "\n",
    "import cv2\n",
    "import os\n",
    "import random\n",
    "\n",
    "# --- 1. SETUP YOUR FOLDERS ---\n",
    "input_folder_path = r'C:\\Users\\athit\\OneDrive\\Desktop\\Early-stage-disease-detection\\data\\processed\\train\\Corn_(maize)___Cercospora_leaf_spot Gray_leaf_spot' \n",
    "output_folder_path = 'Corn_(maize)___Cercospora_leaf_spot Gray_leaf_spot_brighten_images'\n",
    "\n",
    "if not os.path.exists(output_folder_path):\n",
    "    os.makedirs(output_folder_path)\n",
    "    print(f\"✅ Created directory: {output_folder_path}\")\n",
    "\n",
    "# --- 2. PROCESS THE IMAGES ---\n",
    "\n",
    "if not os.path.isdir(input_folder_path):\n",
    "    print(f\"❌ Error: The folder '{input_folder_path}' was not found.\")\n",
    "else:\n",
    "    files = os.listdir(input_folder_path)\n",
    "    image_count = 0\n",
    "    print(f\"Found {len(files)} files. Starting brightness adjustment...\")\n",
    "\n",
    "    for filename in files:\n",
    "        if filename.lower().endswith(('.png', '.jpg', '.jpeg')):\n",
    "            input_image_path = os.path.join(input_folder_path, filename)\n",
    "            image = cv2.imread(input_image_path)\n",
    "            \n",
    "            if image is not None:\n",
    "                # --- APPLY THE AUGMENTATION ---\n",
    "                # Add or subtract a random value to make the image brighter or darker\n",
    "                brightness_value = random.uniform(-50, 50)\n",
    "                bright_adjusted = cv2.convertScaleAbs(image, alpha=1, beta=brightness_value)\n",
    "                \n",
    "                output_image_path = os.path.join(output_folder_path, filename)\n",
    "                cv2.imwrite(output_image_path, bright_adjusted)\n",
    "                image_count += 1\n",
    "            else:\n",
    "                print(f\"⚠️ Could not read {filename}. Skipping.\")\n",
    "    \n",
    "    print(f\"\\n🎉 Done! Processed and saved {image_count} brightness-adjusted images to '{output_folder_path}'.\")"
   ]
  },
  {
   "cell_type": "code",
   "execution_count": 20,
   "id": "c192c71d",
   "metadata": {},
   "outputs": [
    {
     "name": "stdout",
     "output_type": "stream",
     "text": [
      "✅ Created directory: Corn_(maize)___Cercospora_leaf_spot Gray_leaf_spot_contrast_images\n",
      "Found 513 files. Starting contrast adjustment...\n",
      "\n",
      "🎉 Done! Processed and saved 513 contrast-adjusted images to 'Corn_(maize)___Cercospora_leaf_spot Gray_leaf_spot_contrast_images'.\n"
     ]
    }
   ],
   "source": [
    "# filename: augment_contrast.py\n",
    "\n",
    "import cv2\n",
    "import os\n",
    "import random\n",
    "\n",
    "# --- 1. SETUP YOUR FOLDERS ---\n",
    "input_folder_path = r'C:\\Users\\athit\\OneDrive\\Desktop\\Early-stage-disease-detection\\data\\processed\\train\\Corn_(maize)___Cercospora_leaf_spot Gray_leaf_spot' \n",
    "output_folder_path = 'Corn_(maize)___Cercospora_leaf_spot Gray_leaf_spot_contrast_images'\n",
    "\n",
    "if not os.path.exists(output_folder_path):\n",
    "    os.makedirs(output_folder_path)\n",
    "    print(f\"✅ Created directory: {output_folder_path}\")\n",
    "\n",
    "# --- 2. PROCESS THE IMAGES ---\n",
    "\n",
    "if not os.path.isdir(input_folder_path):\n",
    "    print(f\"❌ Error: The folder '{input_folder_path}' was not found.\")\n",
    "else:\n",
    "    files = os.listdir(input_folder_path)\n",
    "    image_count = 0\n",
    "    print(f\"Found {len(files)} files. Starting contrast adjustment...\")\n",
    "\n",
    "    for filename in files:\n",
    "        if filename.lower().endswith(('.png', '.jpg', '.jpeg')):\n",
    "            input_image_path = os.path.join(input_folder_path, filename)\n",
    "            image = cv2.imread(input_image_path)\n",
    "            \n",
    "            if image is not None:\n",
    "                # --- APPLY THE AUGMENTATION ---\n",
    "                # Multiply pixel values by a factor to increase or decrease contrast\n",
    "                contrast_factor = random.uniform(0.6, 1.4)\n",
    "                contrast_adjusted = cv2.convertScaleAbs(image, alpha=contrast_factor, beta=0)\n",
    "\n",
    "                output_image_path = os.path.join(output_folder_path, filename)\n",
    "                cv2.imwrite(output_image_path, contrast_adjusted)\n",
    "                image_count += 1\n",
    "            else:\n",
    "                print(f\"⚠️ Could not read {filename}. Skipping.\")\n",
    "    \n",
    "    print(f\"\\n🎉 Done! Processed and saved {image_count} contrast-adjusted images to '{output_folder_path}'.\")"
   ]
  },
  {
   "cell_type": "code",
   "execution_count": null,
   "id": "a50e0e3b",
   "metadata": {},
   "outputs": [],
   "source": []
  }
 ],
 "metadata": {
  "kernelspec": {
   "display_name": "venv",
   "language": "python",
   "name": "python3"
  },
  "language_info": {
   "codemirror_mode": {
    "name": "ipython",
    "version": 3
   },
   "file_extension": ".py",
   "mimetype": "text/x-python",
   "name": "python",
   "nbconvert_exporter": "python",
   "pygments_lexer": "ipython3",
   "version": "3.13.5"
  }
 },
 "nbformat": 4,
 "nbformat_minor": 5
}
