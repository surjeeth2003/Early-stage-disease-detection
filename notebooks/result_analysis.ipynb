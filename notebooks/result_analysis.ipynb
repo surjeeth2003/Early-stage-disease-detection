{
 "cells": [
  {
   "cell_type": "code",
   "execution_count": null,
   "id": "7aa26255",
   "metadata": {},
   "outputs": [],
   "source": [
    "print(\"resul\")"
   ]
  },
  {
   "cell_type": "code",
   "execution_count": null,
   "id": "8fa70b39",
   "metadata": {},
   "outputs": [],
   "source": []
  }
 ],
 "metadata": {
  "kernelspec": {
   "display_name": "venv",
   "language": "python",
   "name": "python3"
  },
  "language_info": {
   "name": "python",
   "version": "3.13.5"
  }
 },
 "nbformat": 4,
 "nbformat_minor": 5
}
